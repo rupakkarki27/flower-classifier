{
 "cells": [
  {
   "cell_type": "markdown",
   "metadata": {},
   "source": [
    "# Transfer learning with TensorFlow"
   ]
  },
  {
   "cell_type": "code",
   "execution_count": 1,
   "metadata": {},
   "outputs": [],
   "source": [
    "import tensorflow as tf\n",
    "from tensorflow import keras\n",
    "import numpy as np\n",
    "import seaborn as sns\n",
    "import os"
   ]
  },
  {
   "cell_type": "markdown",
   "metadata": {},
   "source": [
    "## Analyzing our training dataset"
   ]
  },
  {
   "cell_type": "code",
   "execution_count": 2,
   "metadata": {},
   "outputs": [],
   "source": [
    "root_dir = \"/home/rupakkarki/Desktop/deep_learning/datasets/flower_photos/\"\n",
    "train_dir = os.path.join(root_dir, \"train\")\n",
    "val_dir = os.path.join(root_dir, \"val\")"
   ]
  },
  {
   "cell_type": "code",
   "execution_count": 3,
   "metadata": {},
   "outputs": [
    {
     "data": {
      "text/plain": [
       "Text(0.5, 1.0, 'Number of training images per category:')"
      ]
     },
     "execution_count": 3,
     "metadata": {},
     "output_type": "execute_result"
    },
    {
     "data": {
      "image/png": "[encoded data removed]",
      "text/plain": [
       "<Figure size 432x288 with 1 Axes>"
      ]
     },
     "metadata": {
      "needs_background": "light"
     },
     "output_type": "display_data"
    }
   ],
   "source": [
    "category_names = sorted(os.listdir(train_dir))\n",
    "nb_categories = len(category_names)\n",
    "img_pr_cat = []\n",
    "for category in category_names:\n",
    "    folder = train_dir + '/' + category\n",
    "    img_pr_cat.append(len(os.listdir(folder)))\n",
    "\n",
    "sns.barplot(y=category_names, x=img_pr_cat).set_title(\"Number of training images per category:\")"
   ]
  },
  {
   "cell_type": "markdown",
   "metadata": {},
   "source": [
    "## Transfer Learning"
   ]
  },
  {
   "cell_type": "markdown",
   "metadata": {},
   "source": [
    "We will use the Xception model from tensorflow."
   ]
  },
  {
   "cell_type": "code",
   "execution_count": 61,
   "metadata": {},
   "outputs": [],
   "source": [
    "keras.backend.clear_session()"
   ]
  },
  {
   "cell_type": "code",
   "execution_count": 62,
   "metadata": {},
   "outputs": [],
   "source": [
    "IMG_SIZE = (224, 224) + (3,)\n",
    "base_model = keras.applications.Xception(include_top=False,\n",
    "                                         weights=\"imagenet\", input_shape=IMG_SIZE, pooling=\"avg\")"
   ]
  },
  {
   "cell_type": "code",
   "execution_count": 63,
   "metadata": {},
   "outputs": [],
   "source": [
    "my_model = keras.models.Sequential()\n",
    "my_model.add(base_model)\n",
    "my_model.add(keras.layers.Dense(nb_categories, activation=\"softmax\"))"
   ]
  },
  {
   "cell_type": "code",
   "execution_count": 64,
   "metadata": {},
   "outputs": [],
   "source": [
    "my_model.layers[0].trainable = False"
   ]
  },
  {
   "cell_type": "markdown",
   "metadata": {},
   "source": [
    "### Loading Data"
   ]
  },
  {
   "cell_type": "code",
   "execution_count": 65,
   "metadata": {},
   "outputs": [],
   "source": [
    "from tensorflow.keras.preprocessing.image import ImageDataGenerator"
   ]
  },
  {
   "cell_type": "code",
   "execution_count": 66,
   "metadata": {},
   "outputs": [],
   "source": [
    "val_data_generator = ImageDataGenerator(rescale=1./255)\n",
    "train_data_generator = ImageDataGenerator(rescale=1/255)"
   ]
  },
  {
   "cell_type": "code",
   "execution_count": 67,
   "metadata": {},
   "outputs": [
    {
     "name": "stdout",
     "output_type": "stream",
     "text": [
      "Found 3070 images belonging to 5 classes.\n",
      "Found 600 images belonging to 5 classes.\n"
     ]
    }
   ],
   "source": [
    "train_data = train_data_generator.flow_from_directory(train_dir, target_size=(224, 224),\n",
    "                                              class_mode=\"categorical\", batch_size=12)\n",
    "val_data = val_data_generator.flow_from_directory(val_dir, target_size=(224, 224),\n",
    "                                              class_mode=\"categorical\", batch_size=12)"
   ]
  },
  {
   "cell_type": "markdown",
   "metadata": {},
   "source": [
    "## Train Model"
   ]
  },
  {
   "cell_type": "code",
   "execution_count": 68,
   "metadata": {},
   "outputs": [],
   "source": [
    "my_model.compile(loss=\"categorical_crossentropy\", optimizer=\"adam\", metrics=[\"accuracy\"])"
   ]
  },
  {
   "cell_type": "code",
   "execution_count": 69,
   "metadata": {},
   "outputs": [
    {
     "name": "stdout",
     "output_type": "stream",
     "text": [
      "Epoch 1/10\n",
      "256/256 [==============================] - 393s 2s/step - loss: 0.5766 - accuracy: 0.7974 - val_loss: 0.4441 - val_accuracy: 0.8500\n",
      "Epoch 2/10\n",
      "256/256 [==============================] - 393s 2s/step - loss: 0.3263 - accuracy: 0.8928 - val_loss: 0.4529 - val_accuracy: 0.8433\n",
      "Epoch 3/10\n",
      "256/256 [==============================] - 393s 2s/step - loss: 0.2639 - accuracy: 0.9130 - val_loss: 0.4020 - val_accuracy: 0.8567\n",
      "Epoch 4/10\n",
      "256/256 [==============================] - 392s 2s/step - loss: 0.2195 - accuracy: 0.9362 - val_loss: 0.4122 - val_accuracy: 0.8617\n",
      "Epoch 5/10\n",
      "256/256 [==============================] - 393s 2s/step - loss: 0.1907 - accuracy: 0.9440 - val_loss: 0.4015 - val_accuracy: 0.8517\n",
      "Epoch 6/10\n",
      "256/256 [==============================] - 394s 2s/step - loss: 0.1650 - accuracy: 0.9550 - val_loss: 0.4112 - val_accuracy: 0.8583\n",
      "Epoch 7/10\n",
      "256/256 [==============================] - 393s 2s/step - loss: 0.1441 - accuracy: 0.9642 - val_loss: 0.3989 - val_accuracy: 0.8650\n",
      "Epoch 8/10\n",
      "256/256 [==============================] - 393s 2s/step - loss: 0.1310 - accuracy: 0.9684 - val_loss: 0.4028 - val_accuracy: 0.8633\n",
      "Epoch 9/10\n",
      "256/256 [==============================] - 397s 2s/step - loss: 0.1144 - accuracy: 0.9733 - val_loss: 0.4114 - val_accuracy: 0.8633\n",
      "Epoch 10/10\n",
      "256/256 [==============================] - 395s 2s/step - loss: 0.1044 - accuracy: 0.9775 - val_loss: 0.4148 - val_accuracy: 0.8700\n"
     ]
    }
   ],
   "source": [
    "history = my_model.fit(train_data, epochs=10, validation_data=val_data)"
   ]
  },
  {
   "cell_type": "markdown",
   "metadata": {},
   "source": [
    "## Save the model"
   ]
  },
  {
   "cell_type": "code",
   "execution_count": 70,
   "metadata": {},
   "outputs": [],
   "source": [
    "keras.models.save_model(model=my_model, filepath=\"flower_classifier.hdf5\")"
   ]
  },
  {
   "cell_type": "markdown",
   "metadata": {},
   "source": [
    "Now onto the web app!!"
   ]
  },
  {
   "cell_type": "code",
   "execution_count": null,
   "metadata": {},
   "outputs": [],
   "source": []
  }
 ],
 "metadata": {
  "kernelspec": {
   "display_name": "Python 3",
   "language": "python",
   "name": "python3"
  },
  "language_info": {
   "codemirror_mode": {
    "name": "ipython",
    "version": 3
   },
   "file_extension": ".py",
   "mimetype": "text/x-python",
   "name": "python",
   "nbconvert_exporter": "python",
   "pygments_lexer": "ipython3",
   "version": "3.8.5"
  }
 },
 "nbformat": 4,
 "nbformat_minor": 4
}
